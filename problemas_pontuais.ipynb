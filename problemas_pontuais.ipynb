{
 "cells": [
  {
   "cell_type": "markdown",
   "metadata": {},
   "source": [
    "Uma moeda, perfeitamente equilibrada, é lançada para o alto quatro vezes.\n",
    " Utilizando a distribuição binomial, obtenha a probabilidade de a moeda\n",
    "  cair com a face coroa voltada para cima duas vezes."
   ]
  },
  {
   "cell_type": "code",
   "execution_count": 1,
   "metadata": {},
   "outputs": [
    {
     "data": {
      "text/plain": [
       "0.375"
      ]
     },
     "execution_count": 1,
     "metadata": {},
     "output_type": "execute_result"
    }
   ],
   "source": [
    "from scipy.stats import binom\n",
    "\n",
    "p = 1 / 2 # Probabilidade de sair COROA\n",
    "n = 4     # Total de lançamentos\n",
    "k = 2     # Total de sucessos (faces COROA voltada para cima)\n",
    "\n",
    "binom.pmf(k, n, p)"
   ]
  },
  {
   "cell_type": "markdown",
   "metadata": {},
   "source": [
    "Um dado, perfeitamente equilibrado, é lançado para o alto dez vezes. Utilizando a distribuição binomial, obtenha a probabilidade de o dado cair com o número cinco voltado para cima pelo menos três vezes."
   ]
  },
  {
   "cell_type": "code",
   "execution_count": 2,
   "metadata": {},
   "outputs": [
    {
     "name": "stdout",
     "output_type": "stream",
     "text": [
      "prob1 = 0.2247732021287407 | prob2 = 0.22477320212874075\n"
     ]
    }
   ],
   "source": [
    "p = 1 / 6\n",
    "n = 10\n",
    "k = 2\n",
    "\n",
    "prob1 = binom.sf(k, n, p)\n",
    "prob2 = 1 - binom.cdf(k, n, p)\n",
    "print(f'prob1 = {prob1} | prob2 = {prob2}')"
   ]
  },
  {
   "cell_type": "markdown",
   "metadata": {},
   "source": [
    "Uma cidade do interior realiza todos os anos uma gincana para arrecadar fundos para o hospital da cidade. Na última gincana se sabe que a **proporção de participantes do sexo feminino foi de 60%**. **O total de equipes, com 12 integrantes, inscritas na gincana deste ano é de 30**. Com as informações acima responda: Quantas equipes deverão ser formadas por **8 mulheres**?"
   ]
  },
  {
   "cell_type": "code",
   "execution_count": 3,
   "metadata": {},
   "outputs": [
    {
     "name": "stdout",
     "output_type": "stream",
     "text": [
      "216.0 18.0\n"
     ]
    }
   ],
   "source": [
    "total_woman = 30 * 12 * 0.6\n",
    "equip_woman = total_woman / 12\n",
    "print(total_woman, equip_woman)"
   ]
  },
  {
   "cell_type": "code",
   "execution_count": 4,
   "metadata": {},
   "outputs": [
    {
     "data": {
      "text/plain": [
       "6.385228185599999"
      ]
     },
     "execution_count": 4,
     "metadata": {},
     "output_type": "execute_result"
    }
   ],
   "source": [
    "p = 60 / 100 # %\n",
    "n = 12\n",
    "k = 8\n",
    "prob_woman = binom.pmf(k, n, p)\n",
    "prob_equip = prob_woman * 30\n",
    "prob_equip"
   ]
  },
  {
   "cell_type": "markdown",
   "metadata": {},
   "source": [
    "Suponha que a probabilidade de um casal ter filhos com olhos azuis seja de 22%. Em 50 famílias, com 3 crianças cada uma, quantas podemos esperar que tenham dois filhos com olhos azuis?"
   ]
  },
  {
   "cell_type": "code",
   "execution_count": 5,
   "metadata": {},
   "outputs": [
    {
     "data": {
      "text/plain": [
       "5.662799999999996"
      ]
     },
     "execution_count": 5,
     "metadata": {},
     "output_type": "execute_result"
    }
   ],
   "source": [
    "p = 0.22 # Probabilidade de ter um filho de olhos azuis\n",
    "n = 3    # Número de filhos para um casal\n",
    "k = 2    # Número de filhos que 'teriam' olhos azuis\n",
    "N = 50   # Número de famílias\n",
    "\n",
    "prob = binom.pmf(k, n, p)\n",
    "avg  = prob * N\n",
    "avg"
   ]
  }
 ],
 "metadata": {
  "kernelspec": {
   "display_name": "Python 3",
   "language": "python",
   "name": "python3"
  },
  "language_info": {
   "codemirror_mode": {
    "name": "ipython",
    "version": 3
   },
   "file_extension": ".py",
   "mimetype": "text/x-python",
   "name": "python",
   "nbconvert_exporter": "python",
   "pygments_lexer": "ipython3",
   "version": "3.11.5"
  }
 },
 "nbformat": 4,
 "nbformat_minor": 2
}
